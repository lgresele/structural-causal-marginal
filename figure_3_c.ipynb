{
 "cells": [
  {
   "cell_type": "code",
   "execution_count": null,
   "id": "20b8a929-6925-4da5-a611-77f864c67e06",
   "metadata": {
    "tags": []
   },
   "outputs": [],
   "source": [
    "import numpy as np\n",
    "from module import *\n",
    "import pypoman\n",
    "import matplotlib.pyplot as plt\n",
    "from scipy.spatial import ConvexHull, convex_hull_plot_2d\n",
    "from statsmodels.distributions.empirical_distribution import ECDF\n",
    "import os\n",
    "from plotting import make_rectangle"
   ]
  },
  {
   "cell_type": "code",
   "execution_count": null,
   "id": "08717290-0585-48b1-96e1-be2e5eddd612",
   "metadata": {},
   "outputs": [],
   "source": [
    "np.random.seed(42)"
   ]
  },
  {
   "cell_type": "code",
   "execution_count": null,
   "id": "a3c7e00c-3dcf-4a88-bfe8-16da78f17d38",
   "metadata": {},
   "outputs": [],
   "source": [
    "import warnings\n",
    "warnings.filterwarnings(\"ignore\")"
   ]
  },
  {
   "cell_type": "code",
   "execution_count": null,
   "id": "bcbc8877-56a4-4c01-9bba-6db764f53a57",
   "metadata": {
    "tags": []
   },
   "outputs": [],
   "source": [
    "collapses = 0\n",
    "\n",
    "blue_red_s = []\n",
    "green_red_s = []\n",
    "green_blue_s = []\n",
    "\n",
    "parameters_beta = [np.array([1.0, 1.0]), np.array([0.5, 0.5])]\n",
    "\n",
    "for parameter_beta in parameters_beta:\n",
    "    blue_red = []\n",
    "    green_red = []\n",
    "    green_blue = []\n",
    "    for i in range(1000):\n",
    "        theta_x, theta_y, theta_z_00, theta_z_01, theta_z_10, theta_z_11 = generate_instance(beta = True, parameters_beta = parameter_beta)\n",
    "\n",
    "        # Get the vectors alpha, beta with the marginal distributions P_{XZ} and P_{YZ}\n",
    "        alpha = get_alpha(theta_x, theta_y, theta_z_00, theta_z_01, theta_z_10, theta_z_11)\n",
    "        beta = get_beta(theta_x, theta_y, theta_z_00, theta_z_01, theta_z_10, theta_z_11)\n",
    "\n",
    "        # Get the constraint matrices from the marginal probabilities\n",
    "        A, B = get_constraint_matrices(theta_x, theta_y)\n",
    "\n",
    "        # Get \"trivial\" marginal bounds---lambda_x_min, lambda_x_max, lambda_y_min, lambda_y_max\n",
    "        lambda_x_min, lambda_x_max, a_0 = get_trivial_bounds(alpha)\n",
    "        lambda_y_min, lambda_y_max, b_0 = get_trivial_bounds(beta)\n",
    "\n",
    "        # Get the bounds from structural causal marginal problem through linear program\n",
    "        LB_X, UB_X, LB_Y, UB_Y = get_linear_prog_bounds(a_0, b_0, A, B, lambda_x_min, lambda_x_max, lambda_y_min, lambda_y_max)\n",
    "\n",
    "        tolerance = 1e-6\n",
    "        collapse = False\n",
    "        if np.abs(UB_X - LB_X)<tolerance or np.abs(UB_Y - LB_Y)<tolerance:\n",
    "            collapse = True\n",
    "            collapses+=1\n",
    "\n",
    "        proj = compute_affine_projection(A, B, a_0, b_0)\n",
    "        eq = compute_equality_params(A, B, a_0, b_0)\n",
    "        ineq = compute_inequality_params(A, B, lambda_y_min, lambda_y_max, b_0, lambda_x_min, lambda_x_max, a_0)\n",
    "\n",
    "        area_polygon = 0\n",
    "        if collapse==False:\n",
    "            # List of vertices of the projection of the polytope in R^{16}\n",
    "            vertices_projected_polytope = pypoman.projection.project_polytope(proj=proj, \n",
    "                                                                              ineq=ineq, \n",
    "                                                                              eq=eq)\n",
    "\n",
    "            points = np.vstack(vertices_projected_polytope)\n",
    "            area_polygon = area_polygon_points(points)\n",
    "\n",
    "        trivial_bounds = make_rectangle(lambda_x_min, lambda_x_max, lambda_y_min, lambda_y_max)\n",
    "        area_trivial = area_polygon_points(trivial_bounds)\n",
    "        lin_prog_bounds = make_rectangle(LB_X, UB_X, LB_Y, UB_Y)\n",
    "\n",
    "        area_lin_prog = area_polygon_points(lin_prog_bounds)\n",
    "\n",
    "        green_red.append(area_polygon/area_trivial)\n",
    "        blue_red.append(area_lin_prog/area_trivial)\n",
    "        green_blue.append(area_polygon/area_lin_prog)\n",
    "\n",
    "    green_red_s.append(np.array(green_red))\n",
    "    blue_red_s.append(np.array(blue_red))\n",
    "    green_blue_s.append(np.array(green_blue))"
   ]
  },
  {
   "cell_type": "code",
   "execution_count": null,
   "id": "298ed1e9-0852-4a80-8e16-55ccf2b34189",
   "metadata": {},
   "outputs": [],
   "source": [
    "# figure_path = ''\n",
    "# filename = os.path.join(figure_path, 'figure_3_c.pdf')"
   ]
  },
  {
   "cell_type": "code",
   "execution_count": null,
   "id": "ba6fd6a7-a0e8-4f3f-9be3-caf99fc6713f",
   "metadata": {},
   "outputs": [],
   "source": [
    "linestyles = ['solid', 'dashed','dotted', 'dashdot']\n",
    "\n",
    "plt.figure(figsize=(5,4))\n",
    "for i in range(len(green_red_s)):\n",
    "    additional_label = r'$\\alpha=\\beta=$'+str(parameters_beta[i][0])\n",
    "    \n",
    "    count_blue, bins_count_blue = np.histogram(blue_red_s[i][blue_red_s[i]<1.0], bins=10)\n",
    "    pdf_blue = count_blue / sum(count_blue)\n",
    "    cdf_blue = np.cumsum(pdf_blue)\n",
    "    plt.plot(bins_count_blue[1:], cdf_blue, label=additional_label, color='#016ddb', alpha=0.9, linestyle=linestyles[i*2], linewidth=2.5)\n",
    "\n",
    "    count_green, bins_count_green = np.histogram(green_red_s[i][green_red_s[i]<1.0], bins=10)\n",
    "    pdf_green = count_green / sum(count_green)\n",
    "    cdf_green = np.cumsum(pdf_green)\n",
    "    plt.plot(bins_count_green[1:], cdf_green, label=additional_label, color='#009292', alpha=0.6, linestyle=linestyles[i*2+1], linewidth=2.5)\n",
    "\n",
    "plt.legend(fontsize=13)\n",
    "xlabel = 'Ratio with red area'\n",
    "ylabel = 'CDF'\n",
    "plt.xlabel(xlabel, fontsize=15, labelpad=5)\n",
    "plt.ylabel(ylabel, fontsize=15, labelpad=5)\n",
    "# plt.savefig(filename, dpi=None, facecolor='w', edgecolor='w',\n",
    "#         orientation='portrait', format=None,\n",
    "#         transparent=True, bbox_inches='tight', pad_inches=0.1, metadata=None)\n",
    "plt.show()"
   ]
  },
  {
   "cell_type": "code",
   "execution_count": null,
   "id": "e6a97af9-aa14-4e56-8fe1-ceb0a7e9da07",
   "metadata": {},
   "outputs": [],
   "source": []
  }
 ],
 "metadata": {
  "kernelspec": {
   "display_name": "Python 3",
   "language": "python",
   "name": "python3"
  },
  "language_info": {
   "codemirror_mode": {
    "name": "ipython",
    "version": 3
   },
   "file_extension": ".py",
   "mimetype": "text/x-python",
   "name": "python",
   "nbconvert_exporter": "python",
   "pygments_lexer": "ipython3",
   "version": "3.8.8"
  }
 },
 "nbformat": 4,
 "nbformat_minor": 5
}
