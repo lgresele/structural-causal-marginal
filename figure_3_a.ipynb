{
 "cells": [
  {
   "cell_type": "code",
   "execution_count": null,
   "id": "20b8a929-6925-4da5-a611-77f864c67e06",
   "metadata": {},
   "outputs": [],
   "source": [
    "import numpy as np\n",
    "import pypoman\n",
    "import matplotlib.pyplot as plt\n",
    "from scipy.spatial import ConvexHull, convex_hull_plot_2d\n",
    "from plotting import generate_polygon, make_rectangle\n",
    "from module import *"
   ]
  },
  {
   "cell_type": "code",
   "execution_count": null,
   "id": "a3c7e00c-3dcf-4a88-bfe8-16da78f17d38",
   "metadata": {},
   "outputs": [],
   "source": [
    "import warnings\n",
    "warnings.filterwarnings(\"ignore\")"
   ]
  },
  {
   "cell_type": "code",
   "execution_count": null,
   "id": "bcbc8877-56a4-4c01-9bba-6db764f53a57",
   "metadata": {},
   "outputs": [],
   "source": [
    "collapses = 0\n",
    "\n",
    "parameters_realisations = []\n",
    "theta_x = 0.5 \n",
    "theta_y_s = np.linspace(0.501, 0.999, 20)\n",
    "\n",
    "\n",
    "for i, theta_y in enumerate(theta_y_s):\n",
    "    \n",
    "    # Get parameters for the marginal probabilities of the causes \n",
    "    # and the conditional of the effects given the causes.\n",
    "    theta_x, theta_y, theta_z_00, theta_z_01, theta_z_10, theta_z_11, theta_z = generate_instance_and_model(theta_x, theta_y)\n",
    "\n",
    "    parameters = {}\n",
    "    \n",
    "    parameters[\"theta_x\"] = theta_x\n",
    "    parameters[\"theta_y\"] = theta_y\n",
    "    parameters[\"theta_z_00\"] = theta_z_00\n",
    "    parameters[\"theta_z_01\"] = theta_z_01\n",
    "    parameters[\"theta_z_10\"] = theta_z_10\n",
    "    parameters[\"theta_z_11\"] = theta_z_11\n",
    "\n",
    "    parameters_realisations.append(parameters)\n",
    "    \n",
    "    # Get the vectors alpha, beta with the marginal distributions P_{XZ} and P_{YZ}\n",
    "    alpha = get_alpha(theta_x, theta_y, theta_z_00, theta_z_01, theta_z_10, theta_z_11)\n",
    "    beta = get_beta(theta_x, theta_y, theta_z_00, theta_z_01, theta_z_10, theta_z_11)\n",
    "    \n",
    "    # Get \"trivial\" marginal bounds---lambda_x_min, lambda_x_max, lambda_y_min, lambda_y_max\n",
    "    lambda_x_min, lambda_x_max, a_0 = get_trivial_bounds(alpha)\n",
    "    lambda_y_min, lambda_y_max, b_0 = get_trivial_bounds(beta)\n",
    "\n",
    "    # Get the constraint matrices from the marginal probabilities\n",
    "    A, B = get_constraint_matrices(theta_x, theta_y)\n",
    "    \n",
    "    # Get the bounds from structural causal marginal problem through linear program\n",
    "    LB_X, UB_X, LB_Y, UB_Y = get_linear_prog_bounds(a_0, b_0, A, B, lambda_x_min, lambda_x_max, lambda_y_min, lambda_y_max)\n",
    "    \n",
    "    parameters[\"lambda_x_min\"]= lambda_x_min\n",
    "    parameters[\"lambda_x_max\"]= lambda_x_max\n",
    "    parameters[\"lambda_y_min\"]= lambda_y_min\n",
    "    parameters[\"lambda_y_max\"]= lambda_y_max\n",
    "    parameters[\"LB_X\"]= LB_X\n",
    "    parameters[\"UB_X\"]= UB_X\n",
    "    parameters[\"LB_Y\"]= LB_Y\n",
    "    parameters[\"UB_Y\"]= UB_Y"
   ]
  },
  {
   "cell_type": "code",
   "execution_count": null,
   "id": "c149b6a0-9113-4610-87b1-c4c51823a38e",
   "metadata": {},
   "outputs": [],
   "source": [
    "# import os\n",
    "# figure_path = ''"
   ]
  },
  {
   "cell_type": "code",
   "execution_count": null,
   "id": "c4dcfe09-4df6-44bc-886e-a26882fd488c",
   "metadata": {},
   "outputs": [],
   "source": [
    "def legend_without_duplicate_labels(ax):\n",
    "    handles, labels = ax.get_legend_handles_labels()\n",
    "    unique = [(h, l) for i, (h, l) in enumerate(zip(handles, labels)) if l not in labels[:i]]\n",
    "    ax.legend(*zip(*unique), loc='upper center', bbox_to_anchor=(0.5, 1.25))"
   ]
  },
  {
   "cell_type": "code",
   "execution_count": null,
   "id": "4149bf80-6d0a-4f83-becd-a81f2b9816ae",
   "metadata": {},
   "outputs": [],
   "source": [
    "fig, ax = plt.subplots(figsize=(4,4))\n",
    "\n",
    "plt.rcParams['font.size'] = '12'\n",
    "    \n",
    "for parameter in parameters_realisations:\n",
    "    lambda_x_min, lambda_x_max = parameter['lambda_x_min'], parameter['lambda_x_max']\n",
    "    lambda_y_min, lambda_y_max = parameter['lambda_y_min'], parameter['lambda_y_max']\n",
    "    LB_X, UB_X = parameter['LB_X'], parameter['UB_X']\n",
    "    LB_Y, UB_Y = parameter['LB_Y'], parameter['UB_Y']\n",
    "    ax.hlines(y=lambda_y_min, xmin=lambda_x_min, xmax=lambda_x_max, linewidth=5, color='#be6666', alpha=0.7)\n",
    "    ax.plot([LB_X, lambda_x_max], [lambda_y_min, lambda_y_min], 's', markersize=3, color='#016ddb')\n",
    "    ax.hlines(y=lambda_y_min, xmin=LB_X, xmax=lambda_x_max, linewidth=1.5, linestyle='solid', color='white', alpha=1.0)\n",
    "    ax.hlines(y=lambda_y_min, xmin=LB_X, xmax=lambda_x_max, linewidth=1.5, linestyle='solid', color='#016ddb', alpha=1.0)\n",
    "xlabel = '$\\lambda_X$'\n",
    "ylabel = '$\\lambda_Y$'\n",
    "plt.xlabel(xlabel, fontsize=15, labelpad=5)\n",
    "plt.ylabel(ylabel, fontsize=15, rotation=0, labelpad=20)\n",
    "\n",
    "for label in (ax.get_xticklabels() + ax.get_yticklabels()):\n",
    "\tlabel.set_fontsize(12)\n",
    "plt.gca().set_aspect('equal', adjustable='box')\n",
    "# plt.savefig(os.path.join(figure_path, 'figure_3_a.pdf'), dpi=None, facecolor='w', edgecolor='w',\n",
    "#             orientation='portrait', format=None,\n",
    "#             transparent=True, bbox_inches='tight', pad_inches=0.1, metadata=None)\n",
    "plt.show()"
   ]
  }
 ],
 "metadata": {
  "kernelspec": {
   "display_name": "Python 3",
   "language": "python",
   "name": "python3"
  },
  "language_info": {
   "codemirror_mode": {
    "name": "ipython",
    "version": 3
   },
   "file_extension": ".py",
   "mimetype": "text/x-python",
   "name": "python",
   "nbconvert_exporter": "python",
   "pygments_lexer": "ipython3",
   "version": "3.8.8"
  }
 },
 "nbformat": 4,
 "nbformat_minor": 5
}
