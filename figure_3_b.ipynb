{
 "cells": [
  {
   "cell_type": "code",
   "execution_count": null,
   "id": "9e0f19a6-2652-4e9f-8baf-7145520fc3bd",
   "metadata": {},
   "outputs": [],
   "source": [
    "import numpy as np\n",
    "from module import *\n",
    "import pypoman\n",
    "import matplotlib.pyplot as plt\n",
    "from scipy.spatial import ConvexHull, convex_hull_plot_2d"
   ]
  },
  {
   "cell_type": "code",
   "execution_count": null,
   "id": "9f7af669-21c9-4037-bd13-6114fbe4804e",
   "metadata": {},
   "outputs": [],
   "source": [
    "from plotting import generate_polygon, make_rectangle"
   ]
  },
  {
   "cell_type": "code",
   "execution_count": null,
   "id": "7e0276d3-9f98-46af-bec4-0ec35faab3ba",
   "metadata": {},
   "outputs": [],
   "source": [
    "# import os\n",
    "# figure_path = ''\n",
    "# filename = os.path.join(figure_path, 'figure_3_b.pdf')"
   ]
  },
  {
   "cell_type": "code",
   "execution_count": null,
   "id": "ac217cb2-ed1a-4ee6-9451-bfc666be3983",
   "metadata": {},
   "outputs": [],
   "source": [
    "import warnings\n",
    "warnings.filterwarnings(\"ignore\")"
   ]
  },
  {
   "cell_type": "code",
   "execution_count": null,
   "id": "004b712e-9673-492f-8440-b54b6d02ef14",
   "metadata": {},
   "outputs": [],
   "source": [
    "theta_x = 0.4130544060912823\n",
    "theta_y =  0.7202015331287421\n",
    "theta_z_00 = 0.2159316891369294\n",
    "theta_z_01 = 0.9386294150829768\n",
    "theta_z_10 = 0.06753251255922954\n",
    "theta_z_11 = 0.16402954207426068\n",
    "\n",
    "# Get the vectors alpha, beta with the marginal distributions P_{XZ} and P_{YZ}\n",
    "alpha = get_alpha(theta_x, theta_y, theta_z_00, theta_z_01, theta_z_10, theta_z_11)\n",
    "beta = get_beta(theta_x, theta_y, theta_z_00, theta_z_01, theta_z_10, theta_z_11)\n",
    "\n",
    "# Get \"trivial\" marginal bounds---lambda_x_min, lambda_x_max, lambda_y_min, lambda_y_max\n",
    "lambda_x_min, lambda_x_max, a_0 = get_trivial_bounds(alpha)\n",
    "lambda_y_min, lambda_y_max, b_0 = get_trivial_bounds(beta)\n",
    "\n",
    "# Get the constraint matrices from the marginal probabilities\n",
    "A, B = get_constraint_matrices(theta_x, theta_y)\n",
    "\n",
    "# Get the bounds from structural causal marginal problem through linear program\n",
    "LB_X, UB_X, LB_Y, UB_Y = get_linear_prog_bounds(a_0, b_0, A, B, lambda_x_min, lambda_x_max, lambda_y_min, lambda_y_max)\n",
    "\n",
    "\n",
    "proj = compute_affine_projection(A, B, a_0, b_0)\n",
    "eq = compute_equality_params(A, B, a_0, b_0)\n",
    "ineq = compute_inequality_params(A, B, lambda_y_min, lambda_y_max, b_0, lambda_x_min, lambda_x_max, a_0)\n",
    "\n",
    "# List of vertices of the projection of the polytope in R^{16}\n",
    "vertices_projected_polytope = pypoman.projection.project_polytope(proj=proj, \n",
    "                                                                  ineq=ineq, \n",
    "                                                                      eq=eq)\n",
    "points = np.vstack(vertices_projected_polytope)\n",
    "\n",
    "trivial_bounds = make_rectangle(lambda_x_min, lambda_x_max, lambda_y_min, lambda_y_max)\n",
    "lin_prog_bounds = make_rectangle(LB_X, UB_X, LB_Y, UB_Y)\n",
    "\n",
    "area_trivial = area_polygon_points(trivial_bounds)\n",
    "area_lin_prog = area_polygon_points(lin_prog_bounds)\n",
    "area_polygon = area_polygon_points(points)\n",
    "\n",
    "print('Polygon/Red: ',area_polygon/area_trivial)\n",
    "print('Blue/Red: ',area_lin_prog/area_trivial)\n",
    "\n",
    "edgecolor='black'\n",
    "plt.figure(figsize=(4.5,4))\n",
    "\n",
    "poly_trivial_bounds = generate_polygon(trivial_bounds, color='#e8cccc', edgecolor='#ca7f80', alpha=1.0, hatch='||')\n",
    "plt.gca().add_patch(poly_trivial_bounds)\n",
    "\n",
    "poly_lin_prog = generate_polygon(lin_prog_bounds, color='white', alpha=1.0)\n",
    "plt.gca().add_patch(poly_lin_prog)\n",
    "poly_lin_prog = generate_polygon(lin_prog_bounds, color='#cce2f8', edgecolor='grey', alpha=1.0, hatch='')\n",
    "plt.gca().add_patch(poly_lin_prog)\n",
    "\n",
    "\n",
    "poly = generate_polygon(points, color='white', alpha=1.0)\n",
    "plt.gca().add_patch(poly)\n",
    "poly = generate_polygon(points, color='#d3ffd3', edgecolor='#81c9c9', alpha=1.0, hatch='..')\n",
    "plt.gca().add_patch(poly)\n",
    "\n",
    "# x and y axes titles\n",
    "xlabel = '$\\lambda_X$'\n",
    "ylabel = '$\\lambda_Y$'\n",
    "plt.xlabel(xlabel, fontsize=15, labelpad=5)\n",
    "plt.ylabel(ylabel, fontsize=15, labelpad=5,rotation=0)\n",
    "plt.xticks([lambda_x_min, LB_X, UB_X], ['$\\lambda_X^{min}$', '$LB_X$', '$\\lambda_X^{max} = UB_X$'])\n",
    "plt.yticks([lambda_y_min, LB_Y, UB_Y], ['$\\lambda_Y^{min}$', '$LB_Y$', '$\\lambda_Y^{max} = UB_Y$'])\n",
    "\n",
    "plt.ylim(-0.01 + lambda_y_min, lambda_y_max+0.01)\n",
    "plt.xlim(-0.01 + lambda_x_min, lambda_x_max+0.01)\n",
    "# plt.savefig(filename, dpi=None, facecolor='w', edgecolor='w',\n",
    "#         orientation='portrait', format=None,\n",
    "#         transparent=True, bbox_inches='tight', pad_inches=0.1, metadata=None)\n",
    "\n",
    "plt.show()"
   ]
  }
 ],
 "metadata": {
  "kernelspec": {
   "display_name": "Python 3",
   "language": "python",
   "name": "python3"
  },
  "language_info": {
   "codemirror_mode": {
    "name": "ipython",
    "version": 3
   },
   "file_extension": ".py",
   "mimetype": "text/x-python",
   "name": "python",
   "nbconvert_exporter": "python",
   "pygments_lexer": "ipython3",
   "version": "3.8.8"
  }
 },
 "nbformat": 4,
 "nbformat_minor": 5
}
